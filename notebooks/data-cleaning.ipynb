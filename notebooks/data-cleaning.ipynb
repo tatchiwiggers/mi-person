{
 "cells": [
  {
   "cell_type": "code",
   "execution_count": null,
   "metadata": {},
   "outputs": [],
   "source": [
    "import pandas as pd"
   ]
  }
 ],
 "metadata": {
  "kernelspec": {
   "display_name": "Python 3.8.12 64-bit ('shims')",
   "language": "python",
   "name": "python3"
  },
  "language_info": {
   "name": "python",
   "version": "3.8.12"
  },
  "orig_nbformat": 4,
  "vscode": {
   "interpreter": {
    "hash": "7c755196ae730087ab3e0cbcf519905384f7a6d1ac5e7cea0867a044ae637e78"
   }
  }
 },
 "nbformat": 4,
 "nbformat_minor": 2
}
