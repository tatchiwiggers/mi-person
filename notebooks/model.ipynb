{
 "cells": [
  {
   "cell_type": "code",
   "execution_count": 2,
   "metadata": {},
   "outputs": [
    {
     "name": "stdout",
     "output_type": "stream",
     "text": [
      "Fisrt statement: \n",
      "Overall sentiment:  {'neg': 0.0, 'neu': 0.0, 'pos': 0.0, 'compound': 0.0}\n",
      "sentence was rated as  0.0 % Negative\n",
      "sentence was rated as  0.0 % Neutral\n",
      "sentence was rated as  0.0 % Positive\n",
      "\n",
      "Sentence overall rated as Neutral, so no problem here ;)\n"
     ]
    }
   ],
   "source": [
    "import importlib  \n",
    "importlib.import_module(\"mi-person\")\n",
    "# import SentimentIntensityAnalyzer class\n",
    "# from vaderSentiment.vaderSentiment module.\n",
    "from vaderSentiment.vaderSentiment import SentimentIntensityAnalyzer\n",
    "\n",
    "# function to print sentiments\n",
    "# of the sentence.\n",
    "def sentiment_scores(sentence):\n",
    "\n",
    "\t# Create a SentimentIntensityAnalyzer object.\n",
    "\tsid_obj = SentimentIntensityAnalyzer()\n",
    "\n",
    "\t# polarity_scores method of SentimentIntensityAnalyzer\n",
    "\t# object gives a sentiment dictionary.\n",
    "\t# which contains pos, neg, neu, and compound scores.\n",
    "\tsentiment_dict = sid_obj.polarity_scores(sentence)\n",
    "\t\n",
    "\tprint(\"Overall sentiment: \", sentiment_dict)\n",
    "\tprint(\"sentence was rated as \", sentiment_dict['neg']*100, \"% Negative\")\n",
    "\tprint(\"sentence was rated as \", sentiment_dict['neu']*100, \"% Neutral\")\n",
    "\tprint(\"sentence was rated as \", sentiment_dict['pos']*100, \"% Positive\")\n",
    "\n",
    "\tprint(\"\\nSentence overall rated as\", end = \" \",)\n",
    "\n",
    "\t# decide sentiment as positive, negative and neutral\n",
    "\tif sentiment_dict['compound'] >= 0.05 :\n",
    "\t\tprint(\"Positive, say something nice back :)\")\n",
    "\n",
    "\telif sentiment_dict['compound'] <= - 0.05 :\n",
    "\t\tprint(\"Negative, try to chill a bit before answering...\")\n",
    "\n",
    "\telse :\n",
    "\t\tprint(\"Neutral, so no problem here ;)\")\n",
    "\n",
    "\n",
    "\n",
    "if __name__ == \"__main__\" :\n",
    "\n",
    "\tsentence = input(\"Enter a sentence to be analized: \")\n",
    "\n",
    "\tsentiment_scores(sentence)\n"
   ]
  },
  {
   "cell_type": "code",
   "execution_count": null,
   "metadata": {},
   "outputs": [],
   "source": []
  }
 ],
 "metadata": {
  "kernelspec": {
   "display_name": "Python 3.8.12 64-bit ('mi-person')",
   "language": "python",
   "name": "python3"
  },
  "language_info": {
   "codemirror_mode": {
    "name": "ipython",
    "version": 3
   },
   "file_extension": ".py",
   "mimetype": "text/x-python",
   "name": "python",
   "nbconvert_exporter": "python",
   "pygments_lexer": "ipython3",
   "version": "3.8.12"
  },
  "orig_nbformat": 4,
  "vscode": {
   "interpreter": {
    "hash": "ad8f911216fb44df1a6bdf3bc43e179ecc09f87b6d0815550788f565bf5d24f9"
   }
  }
 },
 "nbformat": 4,
 "nbformat_minor": 2
}
